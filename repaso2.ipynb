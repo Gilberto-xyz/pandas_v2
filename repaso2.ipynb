{
 "cells": [
  {
   "cell_type": "markdown",
   "metadata": {},
   "source": [
    "## Ejercicios para la semana"
   ]
  },
  {
   "cell_type": "code",
   "execution_count": 1,
   "metadata": {},
   "outputs": [
    {
     "data": {
      "text/html": [
       "<div>\n",
       "<style scoped>\n",
       "    .dataframe tbody tr th:only-of-type {\n",
       "        vertical-align: middle;\n",
       "    }\n",
       "\n",
       "    .dataframe tbody tr th {\n",
       "        vertical-align: top;\n",
       "    }\n",
       "\n",
       "    .dataframe thead th {\n",
       "        text-align: right;\n",
       "    }\n",
       "</style>\n",
       "<table border=\"1\" class=\"dataframe\">\n",
       "  <thead>\n",
       "    <tr style=\"text-align: right;\">\n",
       "      <th></th>\n",
       "      <th>name</th>\n",
       "      <th>age</th>\n",
       "      <th>gender</th>\n",
       "      <th>country</th>\n",
       "      <th>email</th>\n",
       "    </tr>\n",
       "  </thead>\n",
       "  <tbody>\n",
       "    <tr>\n",
       "      <th>0</th>\n",
       "      <td>Mr Jerome Thomas</td>\n",
       "      <td>73</td>\n",
       "      <td>male</td>\n",
       "      <td>United States</td>\n",
       "      <td>jerome.thomas@example.com</td>\n",
       "    </tr>\n",
       "    <tr>\n",
       "      <th>1</th>\n",
       "      <td>Mr Gary Berry</td>\n",
       "      <td>70</td>\n",
       "      <td>male</td>\n",
       "      <td>United Kingdom</td>\n",
       "      <td>gary.berry@example.com</td>\n",
       "    </tr>\n",
       "    <tr>\n",
       "      <th>2</th>\n",
       "      <td>Mr Noham Dubois</td>\n",
       "      <td>40</td>\n",
       "      <td>male</td>\n",
       "      <td>France</td>\n",
       "      <td>noham.dubois@example.com</td>\n",
       "    </tr>\n",
       "    <tr>\n",
       "      <th>3</th>\n",
       "      <td>Mrs Naja Johansen</td>\n",
       "      <td>63</td>\n",
       "      <td>female</td>\n",
       "      <td>Denmark</td>\n",
       "      <td>naja.johansen@example.com</td>\n",
       "    </tr>\n",
       "    <tr>\n",
       "      <th>4</th>\n",
       "      <td>Mr Damien Marchand</td>\n",
       "      <td>61</td>\n",
       "      <td>male</td>\n",
       "      <td>France</td>\n",
       "      <td>damien.marchand@example.com</td>\n",
       "    </tr>\n",
       "    <tr>\n",
       "      <th>...</th>\n",
       "      <td>...</td>\n",
       "      <td>...</td>\n",
       "      <td>...</td>\n",
       "      <td>...</td>\n",
       "      <td>...</td>\n",
       "    </tr>\n",
       "    <tr>\n",
       "      <th>195</th>\n",
       "      <td>Mr Raul Bravo</td>\n",
       "      <td>46</td>\n",
       "      <td>male</td>\n",
       "      <td>Spain</td>\n",
       "      <td>raul.bravo@example.com</td>\n",
       "    </tr>\n",
       "    <tr>\n",
       "      <th>196</th>\n",
       "      <td>Miss Maeva Fortin</td>\n",
       "      <td>40</td>\n",
       "      <td>female</td>\n",
       "      <td>Canada</td>\n",
       "      <td>maeva.fortin@example.com</td>\n",
       "    </tr>\n",
       "    <tr>\n",
       "      <th>197</th>\n",
       "      <td>Mr Gabriel Berger</td>\n",
       "      <td>40</td>\n",
       "      <td>male</td>\n",
       "      <td>France</td>\n",
       "      <td>gabriel.berger@example.com</td>\n",
       "    </tr>\n",
       "    <tr>\n",
       "      <th>198</th>\n",
       "      <td>Mrs Ülkü Tanrıkulu</td>\n",
       "      <td>37</td>\n",
       "      <td>female</td>\n",
       "      <td>Turkey</td>\n",
       "      <td>ulku.tanrikulu@example.com</td>\n",
       "    </tr>\n",
       "    <tr>\n",
       "      <th>199</th>\n",
       "      <td>Mr Raff Valkema</td>\n",
       "      <td>60</td>\n",
       "      <td>male</td>\n",
       "      <td>Netherlands</td>\n",
       "      <td>raff.valkema@example.com</td>\n",
       "    </tr>\n",
       "  </tbody>\n",
       "</table>\n",
       "<p>200 rows × 5 columns</p>\n",
       "</div>"
      ],
      "text/plain": [
       "                   name  age  gender         country  \\\n",
       "0      Mr Jerome Thomas   73    male   United States   \n",
       "1         Mr Gary Berry   70    male  United Kingdom   \n",
       "2       Mr Noham Dubois   40    male          France   \n",
       "3     Mrs Naja Johansen   63  female         Denmark   \n",
       "4    Mr Damien Marchand   61    male          France   \n",
       "..                  ...  ...     ...             ...   \n",
       "195       Mr Raul Bravo   46    male           Spain   \n",
       "196   Miss Maeva Fortin   40  female          Canada   \n",
       "197   Mr Gabriel Berger   40    male          France   \n",
       "198  Mrs Ülkü Tanrıkulu   37  female          Turkey   \n",
       "199     Mr Raff Valkema   60    male     Netherlands   \n",
       "\n",
       "                           email  \n",
       "0      jerome.thomas@example.com  \n",
       "1         gary.berry@example.com  \n",
       "2       noham.dubois@example.com  \n",
       "3      naja.johansen@example.com  \n",
       "4    damien.marchand@example.com  \n",
       "..                           ...  \n",
       "195       raul.bravo@example.com  \n",
       "196     maeva.fortin@example.com  \n",
       "197   gabriel.berger@example.com  \n",
       "198   ulku.tanrikulu@example.com  \n",
       "199     raff.valkema@example.com  \n",
       "\n",
       "[200 rows x 5 columns]"
      ]
     },
     "execution_count": 1,
     "metadata": {},
     "output_type": "execute_result"
    }
   ],
   "source": [
    "import pandas as pd \n",
    "import numpy as np\n",
    "\n",
    "data = pd.read_csv('https://gist.githubusercontent.com/eduardogpg/9a0e348884bf8b5e60db013a0429a59d/raw/3587f65f7914f6c7d02fb84489d34d2b16eb511a/users.csv',\n",
    "usecols=['name','age','gender','country','email'])\n",
    "data"
   ]
  },
  {
   "cell_type": "markdown",
   "metadata": {},
   "source": [
    "### Mostrar en consola el nombre de todos los usuario que no poseen un correo electrónico"
   ]
  },
  {
   "cell_type": "code",
   "execution_count": 74,
   "metadata": {},
   "outputs": [
    {
     "data": {
      "text/html": [
       "<div>\n",
       "<style scoped>\n",
       "    .dataframe tbody tr th:only-of-type {\n",
       "        vertical-align: middle;\n",
       "    }\n",
       "\n",
       "    .dataframe tbody tr th {\n",
       "        vertical-align: top;\n",
       "    }\n",
       "\n",
       "    .dataframe thead th {\n",
       "        text-align: right;\n",
       "    }\n",
       "</style>\n",
       "<table border=\"1\" class=\"dataframe\">\n",
       "  <thead>\n",
       "    <tr style=\"text-align: right;\">\n",
       "      <th></th>\n",
       "      <th>name</th>\n",
       "    </tr>\n",
       "  </thead>\n",
       "  <tbody>\n",
       "  </tbody>\n",
       "</table>\n",
       "</div>"
      ],
      "text/plain": [
       "Empty DataFrame\n",
       "Columns: [name]\n",
       "Index: []"
      ]
     },
     "execution_count": 74,
     "metadata": {},
     "output_type": "execute_result"
    }
   ],
   "source": [
    "# Este se cumple, pero no existen registros vacios, por lo tanto no muestra nada\n",
    "# data[ data['email'].isnull()]\n",
    "\n",
    "# Para complementar, mostrar nombre\n",
    "data[ data['email'].isnull()] [['name']]"
   ]
  },
  {
   "cell_type": "markdown",
   "metadata": {},
   "source": [
    "### Listar el nombre y correo del usuario más jovén de Canadá"
   ]
  },
  {
   "cell_type": "code",
   "execution_count": 77,
   "metadata": {},
   "outputs": [
    {
     "data": {
      "text/html": [
       "<div>\n",
       "<style scoped>\n",
       "    .dataframe tbody tr th:only-of-type {\n",
       "        vertical-align: middle;\n",
       "    }\n",
       "\n",
       "    .dataframe tbody tr th {\n",
       "        vertical-align: top;\n",
       "    }\n",
       "\n",
       "    .dataframe thead th {\n",
       "        text-align: right;\n",
       "    }\n",
       "</style>\n",
       "<table border=\"1\" class=\"dataframe\">\n",
       "  <thead>\n",
       "    <tr style=\"text-align: right;\">\n",
       "      <th></th>\n",
       "      <th>name</th>\n",
       "      <th>age</th>\n",
       "    </tr>\n",
       "  </thead>\n",
       "  <tbody>\n",
       "    <tr>\n",
       "      <th>184</th>\n",
       "      <td>Mr Philip Bélanger</td>\n",
       "      <td>24</td>\n",
       "    </tr>\n",
       "  </tbody>\n",
       "</table>\n",
       "</div>"
      ],
      "text/plain": [
       "                   name  age\n",
       "184  Mr Philip Bélanger   24"
      ]
     },
     "execution_count": 77,
     "metadata": {},
     "output_type": "execute_result"
    }
   ],
   "source": [
    "# Primero seleccionamos el pais que es canada\n",
    "# Despues ordenamos los valores por edad y mostramos el primer registro \n",
    "# Mostramos nombre y edad\n",
    "data[ data['country'] == 'Canada'].sort_values('age').head(1) [['name', 'age']]"
   ]
  },
  {
   "cell_type": "markdown",
   "metadata": {},
   "source": [
    "### Listar el nombre y correo de los usuarios más jóvenes de Germany y Canadá"
   ]
  },
  {
   "cell_type": "code",
   "execution_count": 80,
   "metadata": {},
   "outputs": [
    {
     "data": {
      "text/html": [
       "<div>\n",
       "<style scoped>\n",
       "    .dataframe tbody tr th:only-of-type {\n",
       "        vertical-align: middle;\n",
       "    }\n",
       "\n",
       "    .dataframe tbody tr th {\n",
       "        vertical-align: top;\n",
       "    }\n",
       "\n",
       "    .dataframe thead th {\n",
       "        text-align: right;\n",
       "    }\n",
       "</style>\n",
       "<table border=\"1\" class=\"dataframe\">\n",
       "  <thead>\n",
       "    <tr style=\"text-align: right;\">\n",
       "      <th></th>\n",
       "      <th>name</th>\n",
       "      <th>age</th>\n",
       "      <th>gender</th>\n",
       "      <th>country</th>\n",
       "      <th>email</th>\n",
       "    </tr>\n",
       "  </thead>\n",
       "  <tbody>\n",
       "    <tr>\n",
       "      <th>184</th>\n",
       "      <td>Mr Philip Bélanger</td>\n",
       "      <td>24</td>\n",
       "      <td>male</td>\n",
       "      <td>Canada</td>\n",
       "      <td>philip.belanger@example.com</td>\n",
       "    </tr>\n",
       "    <tr>\n",
       "      <th>170</th>\n",
       "      <td>Mr Ryder Côté</td>\n",
       "      <td>25</td>\n",
       "      <td>male</td>\n",
       "      <td>Canada</td>\n",
       "      <td>ryder.cote@example.com</td>\n",
       "    </tr>\n",
       "    <tr>\n",
       "      <th>72</th>\n",
       "      <td>Ms Megan Brown</td>\n",
       "      <td>26</td>\n",
       "      <td>female</td>\n",
       "      <td>Canada</td>\n",
       "      <td>megan.brown@example.com</td>\n",
       "    </tr>\n",
       "    <tr>\n",
       "      <th>88</th>\n",
       "      <td>Mrs Hilda Epp</td>\n",
       "      <td>22</td>\n",
       "      <td>female</td>\n",
       "      <td>Germany</td>\n",
       "      <td>hilda.epp@example.com</td>\n",
       "    </tr>\n",
       "    <tr>\n",
       "      <th>20</th>\n",
       "      <td>Mr Vincenzo Rauscher</td>\n",
       "      <td>25</td>\n",
       "      <td>male</td>\n",
       "      <td>Germany</td>\n",
       "      <td>vincenzo.rauscher@example.com</td>\n",
       "    </tr>\n",
       "    <tr>\n",
       "      <th>85</th>\n",
       "      <td>Mrs Luisa Weißmann</td>\n",
       "      <td>32</td>\n",
       "      <td>female</td>\n",
       "      <td>Germany</td>\n",
       "      <td>luisa.weissmann@example.com</td>\n",
       "    </tr>\n",
       "  </tbody>\n",
       "</table>\n",
       "</div>"
      ],
      "text/plain": [
       "                     name  age  gender  country                          email\n",
       "184    Mr Philip Bélanger   24    male   Canada    philip.belanger@example.com\n",
       "170         Mr Ryder Côté   25    male   Canada         ryder.cote@example.com\n",
       "72         Ms Megan Brown   26  female   Canada        megan.brown@example.com\n",
       "88          Mrs Hilda Epp   22  female  Germany          hilda.epp@example.com\n",
       "20   Mr Vincenzo Rauscher   25    male  Germany  vincenzo.rauscher@example.com\n",
       "85     Mrs Luisa Weißmann   32  female  Germany    luisa.weissmann@example.com"
      ]
     },
     "execution_count": 80,
     "metadata": {},
     "output_type": "execute_result"
    }
   ],
   "source": [
    "# Replicamos la consulta anterior, agregandola a una variable\n",
    "# Forma completa en 2 variables\n",
    "\n",
    "canada  = data[ data['country'] == 'Canada'].sort_values('age').head(3)\n",
    "germany = data[ data['country'] == 'Germany'].sort_values('age').head(3)\n",
    "\n",
    "canada.append(germany)\n"
   ]
  },
  {
   "cell_type": "markdown",
   "metadata": {},
   "source": [
    "### Listar los 5 países con mayor cantidad de usuarios"
   ]
  },
  {
   "cell_type": "code",
   "execution_count": null,
   "metadata": {},
   "outputs": [],
   "source": []
  },
  {
   "cell_type": "markdown",
   "metadata": {},
   "source": [
    "### Obtener el país con más usuarios"
   ]
  },
  {
   "cell_type": "code",
   "execution_count": null,
   "metadata": {},
   "outputs": [],
   "source": []
  },
  {
   "cell_type": "markdown",
   "metadata": {},
   "source": [
    "### Obtener el país con más usuarios cuya edad sea mayor a 50"
   ]
  },
  {
   "cell_type": "code",
   "execution_count": null,
   "metadata": {},
   "outputs": [],
   "source": []
  },
  {
   "cell_type": "markdown",
   "metadata": {},
   "source": [
    "### Obtener la suma total de todos los usuarios de Canadá \\ German"
   ]
  },
  {
   "cell_type": "code",
   "execution_count": null,
   "metadata": {},
   "outputs": [],
   "source": []
  },
  {
   "cell_type": "markdown",
   "metadata": {},
   "source": [
    "### Mostrar en consola la cantidad de países en el dataset"
   ]
  },
  {
   "cell_type": "code",
   "execution_count": null,
   "metadata": {},
   "outputs": [],
   "source": []
  },
  {
   "cell_type": "markdown",
   "metadata": {},
   "source": [
    "### Obtener el promedio de edad de cada uno de los países"
   ]
  },
  {
   "cell_type": "code",
   "execution_count": null,
   "metadata": {},
   "outputs": [],
   "source": []
  },
  {
   "cell_type": "markdown",
   "metadata": {},
   "source": [
    "### Mostrar en consola el país con más hombres"
   ]
  },
  {
   "cell_type": "code",
   "execution_count": null,
   "metadata": {},
   "outputs": [],
   "source": []
  }
 ],
 "metadata": {
  "interpreter": {
   "hash": "7c7891e7cf380ed489d75a267c4c9edc21b025f50aaae629f7ee24d6d95fc690"
  },
  "kernelspec": {
   "display_name": "Python 3.10.0 64-bit",
   "language": "python",
   "name": "python3"
  },
  "language_info": {
   "codemirror_mode": {
    "name": "ipython",
    "version": 3
   },
   "file_extension": ".py",
   "mimetype": "text/x-python",
   "name": "python",
   "nbconvert_exporter": "python",
   "pygments_lexer": "ipython3",
   "version": "3.10.0"
  },
  "orig_nbformat": 4
 },
 "nbformat": 4,
 "nbformat_minor": 2
}
