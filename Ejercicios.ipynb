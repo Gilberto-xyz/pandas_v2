{
 "cells": [
  {
   "cell_type": "code",
   "execution_count": 1,
   "metadata": {},
   "outputs": [],
   "source": [
    "import pandas as pd\n",
    "import numpy as np"
   ]
  },
  {
   "cell_type": "code",
   "execution_count": 8,
   "metadata": {},
   "outputs": [
    {
     "data": {
      "text/html": [
       "<div>\n",
       "<style scoped>\n",
       "    .dataframe tbody tr th:only-of-type {\n",
       "        vertical-align: middle;\n",
       "    }\n",
       "\n",
       "    .dataframe tbody tr th {\n",
       "        vertical-align: top;\n",
       "    }\n",
       "\n",
       "    .dataframe thead th {\n",
       "        text-align: right;\n",
       "    }\n",
       "</style>\n",
       "<table border=\"1\" class=\"dataframe\">\n",
       "  <thead>\n",
       "    <tr style=\"text-align: right;\">\n",
       "      <th></th>\n",
       "      <th>name</th>\n",
       "      <th>age</th>\n",
       "      <th>gender</th>\n",
       "      <th>country</th>\n",
       "      <th>email</th>\n",
       "    </tr>\n",
       "  </thead>\n",
       "  <tbody>\n",
       "    <tr>\n",
       "      <th>0</th>\n",
       "      <td>Mr Jerome Thomas</td>\n",
       "      <td>73</td>\n",
       "      <td>male</td>\n",
       "      <td>United States</td>\n",
       "      <td>jerome.thomas@example.com</td>\n",
       "    </tr>\n",
       "    <tr>\n",
       "      <th>1</th>\n",
       "      <td>Mr Gary Berry</td>\n",
       "      <td>70</td>\n",
       "      <td>male</td>\n",
       "      <td>United Kingdom</td>\n",
       "      <td>gary.berry@example.com</td>\n",
       "    </tr>\n",
       "    <tr>\n",
       "      <th>2</th>\n",
       "      <td>Mr Noham Dubois</td>\n",
       "      <td>40</td>\n",
       "      <td>male</td>\n",
       "      <td>France</td>\n",
       "      <td>noham.dubois@example.com</td>\n",
       "    </tr>\n",
       "    <tr>\n",
       "      <th>3</th>\n",
       "      <td>Mrs Naja Johansen</td>\n",
       "      <td>63</td>\n",
       "      <td>female</td>\n",
       "      <td>Denmark</td>\n",
       "      <td>naja.johansen@example.com</td>\n",
       "    </tr>\n",
       "    <tr>\n",
       "      <th>4</th>\n",
       "      <td>Mr Damien Marchand</td>\n",
       "      <td>61</td>\n",
       "      <td>male</td>\n",
       "      <td>France</td>\n",
       "      <td>damien.marchand@example.com</td>\n",
       "    </tr>\n",
       "    <tr>\n",
       "      <th>...</th>\n",
       "      <td>...</td>\n",
       "      <td>...</td>\n",
       "      <td>...</td>\n",
       "      <td>...</td>\n",
       "      <td>...</td>\n",
       "    </tr>\n",
       "    <tr>\n",
       "      <th>195</th>\n",
       "      <td>Mr Raul Bravo</td>\n",
       "      <td>46</td>\n",
       "      <td>male</td>\n",
       "      <td>Spain</td>\n",
       "      <td>raul.bravo@example.com</td>\n",
       "    </tr>\n",
       "    <tr>\n",
       "      <th>196</th>\n",
       "      <td>Miss Maeva Fortin</td>\n",
       "      <td>40</td>\n",
       "      <td>female</td>\n",
       "      <td>Canada</td>\n",
       "      <td>maeva.fortin@example.com</td>\n",
       "    </tr>\n",
       "    <tr>\n",
       "      <th>197</th>\n",
       "      <td>Mr Gabriel Berger</td>\n",
       "      <td>40</td>\n",
       "      <td>male</td>\n",
       "      <td>France</td>\n",
       "      <td>gabriel.berger@example.com</td>\n",
       "    </tr>\n",
       "    <tr>\n",
       "      <th>198</th>\n",
       "      <td>Mrs Ülkü Tanrıkulu</td>\n",
       "      <td>37</td>\n",
       "      <td>female</td>\n",
       "      <td>Turkey</td>\n",
       "      <td>ulku.tanrikulu@example.com</td>\n",
       "    </tr>\n",
       "    <tr>\n",
       "      <th>199</th>\n",
       "      <td>Mr Raff Valkema</td>\n",
       "      <td>60</td>\n",
       "      <td>male</td>\n",
       "      <td>Netherlands</td>\n",
       "      <td>raff.valkema@example.com</td>\n",
       "    </tr>\n",
       "  </tbody>\n",
       "</table>\n",
       "<p>200 rows × 5 columns</p>\n",
       "</div>"
      ],
      "text/plain": [
       "                   name  age  gender         country  \\\n",
       "0      Mr Jerome Thomas   73    male   United States   \n",
       "1         Mr Gary Berry   70    male  United Kingdom   \n",
       "2       Mr Noham Dubois   40    male          France   \n",
       "3     Mrs Naja Johansen   63  female         Denmark   \n",
       "4    Mr Damien Marchand   61    male          France   \n",
       "..                  ...  ...     ...             ...   \n",
       "195       Mr Raul Bravo   46    male           Spain   \n",
       "196   Miss Maeva Fortin   40  female          Canada   \n",
       "197   Mr Gabriel Berger   40    male          France   \n",
       "198  Mrs Ülkü Tanrıkulu   37  female          Turkey   \n",
       "199     Mr Raff Valkema   60    male     Netherlands   \n",
       "\n",
       "                           email  \n",
       "0      jerome.thomas@example.com  \n",
       "1         gary.berry@example.com  \n",
       "2       noham.dubois@example.com  \n",
       "3      naja.johansen@example.com  \n",
       "4    damien.marchand@example.com  \n",
       "..                           ...  \n",
       "195       raul.bravo@example.com  \n",
       "196     maeva.fortin@example.com  \n",
       "197   gabriel.berger@example.com  \n",
       "198   ulku.tanrikulu@example.com  \n",
       "199     raff.valkema@example.com  \n",
       "\n",
       "[200 rows x 5 columns]"
      ]
     },
     "execution_count": 8,
     "metadata": {},
     "output_type": "execute_result"
    }
   ],
   "source": [
    "data = pd.read_csv('https://gist.githubusercontent.com/eduardogpg/9a0e348884bf8b5e60db013a0429a59d/raw/3587f65f7914f6c7d02fb84489d34d2b16eb511a/users.csv', usecols=['name', 'age', 'gender', 'country', 'email'])\n",
    "data"
   ]
  },
  {
   "cell_type": "markdown",
   "metadata": {},
   "source": [
    "### Obtener el nombre de todos los usuarios con una edad mayor a 20"
   ]
  },
  {
   "cell_type": "code",
   "execution_count": 11,
   "metadata": {},
   "outputs": [
    {
     "data": {
      "text/html": [
       "<div>\n",
       "<style scoped>\n",
       "    .dataframe tbody tr th:only-of-type {\n",
       "        vertical-align: middle;\n",
       "    }\n",
       "\n",
       "    .dataframe tbody tr th {\n",
       "        vertical-align: top;\n",
       "    }\n",
       "\n",
       "    .dataframe thead th {\n",
       "        text-align: right;\n",
       "    }\n",
       "</style>\n",
       "<table border=\"1\" class=\"dataframe\">\n",
       "  <thead>\n",
       "    <tr style=\"text-align: right;\">\n",
       "      <th></th>\n",
       "      <th>name</th>\n",
       "      <th>age</th>\n",
       "      <th>gender</th>\n",
       "      <th>country</th>\n",
       "      <th>email</th>\n",
       "    </tr>\n",
       "  </thead>\n",
       "  <tbody>\n",
       "    <tr>\n",
       "      <th>0</th>\n",
       "      <td>Mr Jerome Thomas</td>\n",
       "      <td>73</td>\n",
       "      <td>male</td>\n",
       "      <td>United States</td>\n",
       "      <td>jerome.thomas@example.com</td>\n",
       "    </tr>\n",
       "    <tr>\n",
       "      <th>1</th>\n",
       "      <td>Mr Gary Berry</td>\n",
       "      <td>70</td>\n",
       "      <td>male</td>\n",
       "      <td>United Kingdom</td>\n",
       "      <td>gary.berry@example.com</td>\n",
       "    </tr>\n",
       "    <tr>\n",
       "      <th>2</th>\n",
       "      <td>Mr Noham Dubois</td>\n",
       "      <td>40</td>\n",
       "      <td>male</td>\n",
       "      <td>France</td>\n",
       "      <td>noham.dubois@example.com</td>\n",
       "    </tr>\n",
       "    <tr>\n",
       "      <th>3</th>\n",
       "      <td>Mrs Naja Johansen</td>\n",
       "      <td>63</td>\n",
       "      <td>female</td>\n",
       "      <td>Denmark</td>\n",
       "      <td>naja.johansen@example.com</td>\n",
       "    </tr>\n",
       "    <tr>\n",
       "      <th>4</th>\n",
       "      <td>Mr Damien Marchand</td>\n",
       "      <td>61</td>\n",
       "      <td>male</td>\n",
       "      <td>France</td>\n",
       "      <td>damien.marchand@example.com</td>\n",
       "    </tr>\n",
       "    <tr>\n",
       "      <th>...</th>\n",
       "      <td>...</td>\n",
       "      <td>...</td>\n",
       "      <td>...</td>\n",
       "      <td>...</td>\n",
       "      <td>...</td>\n",
       "    </tr>\n",
       "    <tr>\n",
       "      <th>195</th>\n",
       "      <td>Mr Raul Bravo</td>\n",
       "      <td>46</td>\n",
       "      <td>male</td>\n",
       "      <td>Spain</td>\n",
       "      <td>raul.bravo@example.com</td>\n",
       "    </tr>\n",
       "    <tr>\n",
       "      <th>196</th>\n",
       "      <td>Miss Maeva Fortin</td>\n",
       "      <td>40</td>\n",
       "      <td>female</td>\n",
       "      <td>Canada</td>\n",
       "      <td>maeva.fortin@example.com</td>\n",
       "    </tr>\n",
       "    <tr>\n",
       "      <th>197</th>\n",
       "      <td>Mr Gabriel Berger</td>\n",
       "      <td>40</td>\n",
       "      <td>male</td>\n",
       "      <td>France</td>\n",
       "      <td>gabriel.berger@example.com</td>\n",
       "    </tr>\n",
       "    <tr>\n",
       "      <th>198</th>\n",
       "      <td>Mrs Ülkü Tanrıkulu</td>\n",
       "      <td>37</td>\n",
       "      <td>female</td>\n",
       "      <td>Turkey</td>\n",
       "      <td>ulku.tanrikulu@example.com</td>\n",
       "    </tr>\n",
       "    <tr>\n",
       "      <th>199</th>\n",
       "      <td>Mr Raff Valkema</td>\n",
       "      <td>60</td>\n",
       "      <td>male</td>\n",
       "      <td>Netherlands</td>\n",
       "      <td>raff.valkema@example.com</td>\n",
       "    </tr>\n",
       "  </tbody>\n",
       "</table>\n",
       "<p>200 rows × 5 columns</p>\n",
       "</div>"
      ],
      "text/plain": [
       "                   name  age  gender         country  \\\n",
       "0      Mr Jerome Thomas   73    male   United States   \n",
       "1         Mr Gary Berry   70    male  United Kingdom   \n",
       "2       Mr Noham Dubois   40    male          France   \n",
       "3     Mrs Naja Johansen   63  female         Denmark   \n",
       "4    Mr Damien Marchand   61    male          France   \n",
       "..                  ...  ...     ...             ...   \n",
       "195       Mr Raul Bravo   46    male           Spain   \n",
       "196   Miss Maeva Fortin   40  female          Canada   \n",
       "197   Mr Gabriel Berger   40    male          France   \n",
       "198  Mrs Ülkü Tanrıkulu   37  female          Turkey   \n",
       "199     Mr Raff Valkema   60    male     Netherlands   \n",
       "\n",
       "                           email  \n",
       "0      jerome.thomas@example.com  \n",
       "1         gary.berry@example.com  \n",
       "2       noham.dubois@example.com  \n",
       "3      naja.johansen@example.com  \n",
       "4    damien.marchand@example.com  \n",
       "..                           ...  \n",
       "195       raul.bravo@example.com  \n",
       "196     maeva.fortin@example.com  \n",
       "197   gabriel.berger@example.com  \n",
       "198   ulku.tanrikulu@example.com  \n",
       "199     raff.valkema@example.com  \n",
       "\n",
       "[200 rows x 5 columns]"
      ]
     },
     "execution_count": 11,
     "metadata": {},
     "output_type": "execute_result"
    }
   ],
   "source": [
    "data[ data['age'] > 20]"
   ]
  },
  {
   "cell_type": "markdown",
   "metadata": {},
   "source": [
    "### Obtener el nombre de todos los usuarios con una edad mayor a 20 y de sexo femenino"
   ]
  },
  {
   "cell_type": "code",
   "execution_count": null,
   "metadata": {},
   "outputs": [],
   "source": []
  },
  {
   "cell_type": "markdown",
   "metadata": {},
   "source": [
    "### Obtener todos los usuarios cuyo email no termine con @example.com"
   ]
  },
  {
   "cell_type": "code",
   "execution_count": null,
   "metadata": {},
   "outputs": [],
   "source": []
  },
  {
   "cell_type": "markdown",
   "metadata": {},
   "source": [
    "### Obtener el nombre y correo electronico de todos aquellos usuarios del pais Germany, Findland y Canada"
   ]
  },
  {
   "cell_type": "code",
   "execution_count": null,
   "metadata": {},
   "outputs": [],
   "source": []
  },
  {
   "cell_type": "markdown",
   "metadata": {},
   "source": [
    "### Obtener el nombre y correo electronico de todos los usuarios de sexo femenino del pais Germany"
   ]
  },
  {
   "cell_type": "code",
   "execution_count": null,
   "metadata": {},
   "outputs": [],
   "source": []
  },
  {
   "cell_type": "markdown",
   "metadata": {},
   "source": [
    "### Obtener la cantidad de usuarios de sexo masculino en canada"
   ]
  },
  {
   "cell_type": "code",
   "execution_count": null,
   "metadata": {},
   "outputs": [],
   "source": []
  },
  {
   "cell_type": "markdown",
   "metadata": {},
   "source": [
    "### Mostrar la cantidad de hombres y mujeres"
   ]
  },
  {
   "cell_type": "code",
   "execution_count": null,
   "metadata": {},
   "outputs": [],
   "source": []
  },
  {
   "cell_type": "markdown",
   "metadata": {},
   "source": [
    "### Mostrar el pais con mas mujeres"
   ]
  },
  {
   "cell_type": "code",
   "execution_count": null,
   "metadata": {},
   "outputs": [],
   "source": []
  },
  {
   "cell_type": "markdown",
   "metadata": {},
   "source": [
    "### Obtener los 5 paises con mas usuarios "
   ]
  },
  {
   "cell_type": "code",
   "execution_count": null,
   "metadata": {},
   "outputs": [],
   "source": []
  }
 ],
 "metadata": {
  "interpreter": {
   "hash": "7c7891e7cf380ed489d75a267c4c9edc21b025f50aaae629f7ee24d6d95fc690"
  },
  "kernelspec": {
   "display_name": "Python 3.10.0 64-bit",
   "language": "python",
   "name": "python3"
  },
  "language_info": {
   "codemirror_mode": {
    "name": "ipython",
    "version": 3
   },
   "file_extension": ".py",
   "mimetype": "text/x-python",
   "name": "python",
   "nbconvert_exporter": "python",
   "pygments_lexer": "ipython3",
   "version": "3.10.0"
  },
  "orig_nbformat": 4
 },
 "nbformat": 4,
 "nbformat_minor": 2
}
